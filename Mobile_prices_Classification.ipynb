{
  "nbformat": 4,
  "nbformat_minor": 0,
  "metadata": {
    "colab": {
      "name": "Mobile_prices.ipynb",
      "provenance": [],
      "collapsed_sections": []
    },
    "kernelspec": {
      "name": "python3",
      "display_name": "Python 3"
    }
  },
  "cells": [
    {
      "cell_type": "markdown",
      "metadata": {
        "id": "FkKRVe5LTjbA"
      },
      "source": [
        "#importing Libraries \n"
      ]
    },
    {
      "cell_type": "code",
      "metadata": {
        "id": "9htD0tLJZCzr"
      },
      "source": [
        "import numpy as np\n",
        "import pandas as pd\n",
        "import matplotlib.pyplot as plt\n",
        "import seaborn as sns"
      ],
      "execution_count": 1,
      "outputs": []
    },
    {
      "cell_type": "markdown",
      "metadata": {
        "id": "l6ht47MiTo-Y"
      },
      "source": [
        "# Importing the dataset"
      ]
    },
    {
      "cell_type": "code",
      "metadata": {
        "id": "P1mRwzxlZP6T"
      },
      "source": [
        "dataset= pd.read_csv('train.csv')\n",
        "X=dataset.iloc[:,:-1]\n",
        "y=dataset.iloc[:,-1]"
      ],
      "execution_count": 2,
      "outputs": []
    },
    {
      "cell_type": "markdown",
      "metadata": {
        "id": "ie2WCyxbTxOr"
      },
      "source": [
        "# Feature Scaling"
      ]
    },
    {
      "cell_type": "code",
      "metadata": {
        "id": "754A-MqoZZJj"
      },
      "source": [
        "from sklearn.preprocessing import StandardScaler\n",
        "sc=StandardScaler()\n",
        "X=sc.fit_transform(X)"
      ],
      "execution_count": 3,
      "outputs": []
    },
    {
      "cell_type": "markdown",
      "metadata": {
        "id": "V-Q6VbPPUkhO"
      },
      "source": [
        "# Splitting the dataset into the Training set and Test set"
      ]
    },
    {
      "cell_type": "code",
      "metadata": {
        "id": "wzCw9YV_Zc9N"
      },
      "source": [
        "from sklearn.model_selection import train_test_split\n",
        "X_train, X_test,y_train,y_test=train_test_split(X,y,test_size = 0.2, random_state = 44) \n",
        "train_scores = []\n",
        "test_scores = []"
      ],
      "execution_count": 4,
      "outputs": []
    },
    {
      "cell_type": "markdown",
      "metadata": {
        "id": "9jEsKwhlUwtP"
      },
      "source": [
        "# Training the Logistic Regression model on the Training set\n"
      ]
    },
    {
      "cell_type": "code",
      "metadata": {
        "id": "4pWe7zJzZjxD",
        "outputId": "1e560848-6d7c-41f9-9175-d822822ad8ee",
        "colab": {
          "base_uri": "https://localhost:8080/",
          "height": 362
        }
      },
      "source": [
        "from sklearn.linear_model import LogisticRegression\n",
        "classifier=LogisticRegression(random_state=0,C=1.0,max_iter=200)\n",
        "classifier.fit(X_train,y_train)\n",
        "\n",
        "# Predicting the Test set results\n",
        "y_pred = classifier.predict(X_test)\n",
        "\n",
        "#calculate the details Logistic Regression\n",
        "print('train_score classifier',classifier.score(X_train,y_train))\n",
        "print('test_score classifier',classifier.score(X_test,y_test))\n",
        "\n",
        "train_scores.append(classifier.score(X_train,y_train))\n",
        "test_scores.append(classifier.score(X_test,y_test))\n",
        "\n",
        "# Making the Confusion Matrix\n",
        "from sklearn.metrics import confusion_matrix\n",
        "cm = confusion_matrix(y_test,y_pred)\n",
        "print(cm)\n",
        "\n",
        "# drawing confusion matrix\n",
        "sns.heatmap(cm,center=True)\n",
        "plt.show()"
      ],
      "execution_count": 5,
      "outputs": [
        {
          "output_type": "stream",
          "text": [
            "train_score classifier 0.980625\n",
            "test_score classifier 0.9575\n",
            "[[105   1   0   0]\n",
            " [  5  93   1   0]\n",
            " [  0   5  92   2]\n",
            " [  0   0   3  93]]\n"
          ],
          "name": "stdout"
        },
        {
          "output_type": "display_data",
          "data": {
            "image/png": "[encoded data removed]",
            "text/plain": [
              "<Figure size 432x288 with 2 Axes>"
            ]
          },
          "metadata": {
            "tags": [],
            "needs_background": "light"
          }
        }
      ]
    },
    {
      "cell_type": "markdown",
      "metadata": {
        "id": "55T5XDTlV0ef"
      },
      "source": [
        "#Support Vector Machines (SVM)\n"
      ]
    },
    {
      "cell_type": "code",
      "metadata": {
        "id": "zZDVcQBLZuMm",
        "outputId": "d3562ed2-9627-4b24-f1cd-fa79b7cd3483",
        "colab": {
          "base_uri": "https://localhost:8080/",
          "height": 362
        }
      },
      "source": [
        "from sklearn.svm import SVC\n",
        "svcmodel = SVC(kernel='rbf',degree=3)\n",
        "svcmodel.fit(X_train,y_train)\n",
        "\n",
        "# Predicting the Test set results SVM\n",
        "y_pred = svcmodel.predict(X_test)\n",
        "\n",
        "#calculate the details SVM\n",
        "print('train_score svcmodel', svcmodel.score(X_train,y_train))\n",
        "print('test_score svcmodel',svcmodel.score(X_test,y_test))\n",
        "\n",
        "train_scores.append(svcmodel.score(X_train,y_train))\n",
        "test_scores.append(svcmodel.score(X_test,y_test))\n",
        "\n",
        "# Making the Confusion Matrix\n",
        "from sklearn.metrics import confusion_matrix\n",
        "cm = confusion_matrix(y_test,y_pred)\n",
        "print(cm)\n",
        "\n",
        "# drawing confusion matrix\n",
        "sns.heatmap(cm,center=True)\n",
        "plt.show()\n",
        "\n"
      ],
      "execution_count": 6,
      "outputs": [
        {
          "output_type": "stream",
          "text": [
            "train_score svcmodel 0.985625\n",
            "test_score svcmodel 0.865\n",
            "[[98  8  0  0]\n",
            " [ 7 83  9  0]\n",
            " [ 0 12 81  6]\n",
            " [ 0  0 12 84]]\n"
          ],
          "name": "stdout"
        },
        {
          "output_type": "display_data",
          "data": {
            "image/png": "[encoded data removed]",
            "text/plain": [
              "<Figure size 432x288 with 2 Axes>"
            ]
          },
          "metadata": {
            "tags": [],
            "needs_background": "light"
          }
        }
      ]
    },
    {
      "cell_type": "markdown",
      "metadata": {
        "id": "eskRIwlmV9mS"
      },
      "source": [
        "#Applying KNeighborsClassifier Model \n"
      ]
    },
    {
      "cell_type": "code",
      "metadata": {
        "id": "JWr1mtxzZxlh",
        "outputId": "9aa4f12a-2f91-47e4-dbb3-13196d0c862f",
        "colab": {
          "base_uri": "https://localhost:8080/",
          "height": 362
        }
      },
      "source": [
        "from sklearn.neighbors import KNeighborsClassifier\n",
        "Knnclassifier_model = KNeighborsClassifier(n_neighbors=100 )\n",
        "Knnclassifier_model.fit(X_train,y_train)\n",
        "\n",
        "# Predicting the Test set results KNeighborsClassifier\n",
        "y_pred = Knnclassifier_model.predict(X_test)\n",
        "\n",
        "#calculate the details KNeighborsClassifier\n",
        "print('train_score Knnclassifier_model', Knnclassifier_model.score(X_train,y_train))\n",
        "print('test_score Knnclassifier_model',Knnclassifier_model.score(X_test,y_test))\n",
        "\n",
        "train_scores.append(Knnclassifier_model.score(X_train,y_train))\n",
        "test_scores.append(Knnclassifier_model.score(X_test,y_test))\n",
        "\n",
        "\n",
        "# Making the Confusion Matrix\n",
        "from sklearn.metrics import confusion_matrix\n",
        "cm = confusion_matrix(y_test,y_pred)\n",
        "print(cm)\n",
        "\n",
        "# drawing confusion matrix\n",
        "sns.heatmap(cm,center=True)\n",
        "plt.show()"
      ],
      "execution_count": 7,
      "outputs": [
        {
          "output_type": "stream",
          "text": [
            "train_score Knnclassifier_model 0.694375\n",
            "test_score Knnclassifier_model 0.64\n",
            "[[85 19  2  0]\n",
            " [29 49 21  0]\n",
            " [ 0 27 61 11]\n",
            " [ 0  1 34 61]]\n"
          ],
          "name": "stdout"
        },
        {
          "output_type": "display_data",
          "data": {
            "image/png": "[encoded data removed]",
            "text/plain": [
              "<Figure size 432x288 with 2 Axes>"
            ]
          },
          "metadata": {
            "tags": [],
            "needs_background": "light"
          }
        }
      ]
    },
    {
      "cell_type": "markdown",
      "metadata": {
        "id": "onncxqeGWSMB"
      },
      "source": [
        "#Applying Naive Bayes GaussianNB Model \n"
      ]
    },
    {
      "cell_type": "code",
      "metadata": {
        "id": "tyw2WyhtZ4eH",
        "outputId": "0d18e539-bf2f-4843-d772-619494556fd4",
        "colab": {
          "base_uri": "https://localhost:8080/",
          "height": 362
        }
      },
      "source": [
        "from sklearn.naive_bayes import GaussianNB\n",
        "gussian_model = GaussianNB(priors=None, var_smoothing=1e-09)\n",
        "gussian_model.fit(X_train,y_train)\n",
        "\n",
        "# Predicting the Test set results Naive Bayes\n",
        "y_pred = gussian_model.predict(X_test)\n",
        "\n",
        "#calculate the details Naive Bayes\n",
        "print('train_score gussian_model', gussian_model.score(X_train,y_train))\n",
        "print('test_score gussian_model',gussian_model.score(X_test,y_test))\n",
        "\n",
        "train_scores.append(gussian_model.score(X_train,y_train))\n",
        "test_scores.append(gussian_model.score(X_test,y_test))\n",
        "\n",
        "# Making the Confusion Matrix\n",
        "from sklearn.metrics import confusion_matrix\n",
        "cm = confusion_matrix(y_test,y_pred)\n",
        "print(cm)\n",
        "\n",
        "# drawing confusion matrix\n",
        "sns.heatmap(cm,center=True)\n",
        "plt.show()\n"
      ],
      "execution_count": 8,
      "outputs": [
        {
          "output_type": "stream",
          "text": [
            "train_score gussian_model 0.820625\n",
            "test_score gussian_model 0.81\n",
            "[[99  7  0  0]\n",
            " [ 9 71 19  0]\n",
            " [ 0 22 68  9]\n",
            " [ 0  0 10 86]]\n"
          ],
          "name": "stdout"
        },
        {
          "output_type": "display_data",
          "data": {
            "image/png": "[encoded data removed]",
            "text/plain": [
              "<Figure size 432x288 with 2 Axes>"
            ]
          },
          "metadata": {
            "tags": [],
            "needs_background": "light"
          }
        }
      ]
    },
    {
      "cell_type": "markdown",
      "metadata": {
        "id": "uvxPyCkIWeXo"
      },
      "source": [
        "#Applying DecisionTreeClassifier Model \n"
      ]
    },
    {
      "cell_type": "code",
      "metadata": {
        "id": "A8xMjWBWaZBN",
        "outputId": "878f3eee-4df6-44b1-8cc8-918aa8325130",
        "colab": {
          "base_uri": "https://localhost:8080/",
          "height": 362
        }
      },
      "source": [
        "from sklearn.tree import DecisionTreeClassifier\n",
        "DT_model=DecisionTreeClassifier(criterion='entropy')\n",
        "DT_model.fit(X_train,y_train)\n",
        "\n",
        "# Predicting the Test set results DecisionTreeClassifier Model\n",
        "y_pred = DT_model.predict(X_test)\n",
        "\n",
        "#calculate the details DecisionTreeClassifier Model\n",
        "print('train_score DT_model', DT_model.score(X_train,y_train))\n",
        "print('test_score DT_model',DT_model.score(X_test,y_test))\n",
        "\n",
        "train_scores.append(DT_model.score(X_train,y_train))\n",
        "test_scores.append(DT_model.score(X_test,y_test))\n",
        "\n",
        "# Making the Confusion Matrix\n",
        "from sklearn.metrics import confusion_matrix\n",
        "cm = confusion_matrix(y_test,y_pred)\n",
        "print(cm)\n",
        "\n",
        "# drawing confusion matrix\n",
        "sns.heatmap(cm,center=True)\n",
        "plt.show()"
      ],
      "execution_count": 9,
      "outputs": [
        {
          "output_type": "stream",
          "text": [
            "train_score DT_model 1.0\n",
            "test_score DT_model 0.8525\n",
            "[[96 10  0  0]\n",
            " [ 8 80 11  0]\n",
            " [ 0  7 79 13]\n",
            " [ 0  0 10 86]]\n"
          ],
          "name": "stdout"
        },
        {
          "output_type": "display_data",
          "data": {
            "image/png": "[encoded data removed]",
            "text/plain": [
              "<Figure size 432x288 with 2 Axes>"
            ]
          },
          "metadata": {
            "tags": [],
            "needs_background": "light"
          }
        }
      ]
    },
    {
      "cell_type": "markdown",
      "metadata": {
        "id": "FwzD2ReOWnSV"
      },
      "source": [
        "#Applying NNClassifier Model \n"
      ]
    },
    {
      "cell_type": "code",
      "metadata": {
        "id": "oQ8OiMaJaetA",
        "outputId": "eff33205-1de1-4416-e289-fb56d6eea16d",
        "colab": {
          "base_uri": "https://localhost:8080/",
          "height": 418
        }
      },
      "source": [
        "from sklearn.neural_network import MLPClassifier\n",
        "\n",
        "mlp_model = MLPClassifier(hidden_layer_sizes=100 ,activation='relu',alpha=0.01,epsilon=1E-08)\n",
        "mlp_model.fit(X_train,y_train)\n",
        "\n",
        "# Predicting the Test set results NNClassifier Model\n",
        "y_pred = mlp_model.predict(X_test)\n",
        "\n",
        "#calculate the details NNClassifier Model\n",
        "print('train_score mlp_model', mlp_model.score(X_train,y_train))\n",
        "print('test_score mlp_model',mlp_model.score(X_test,y_test))\n",
        "\n",
        "train_scores.append(mlp_model.score(X_train,y_train))\n",
        "test_scores.append(mlp_model.score(X_test,y_test))\n",
        "\n",
        "# Making the Confusion Matrix\n",
        "from sklearn.metrics import confusion_matrix\n",
        "cm = confusion_matrix(y_test,y_pred)\n",
        "print(cm)\n",
        "\n",
        "# drawing confusion matrix\n",
        "sns.heatmap(cm,center=True)\n",
        "plt.show()\n"
      ],
      "execution_count": 10,
      "outputs": [
        {
          "output_type": "stream",
          "text": [
            "/usr/local/lib/python3.6/dist-packages/sklearn/neural_network/_multilayer_perceptron.py:571: ConvergenceWarning: Stochastic Optimizer: Maximum iterations (200) reached and the optimization hasn't converged yet.\n",
            "  % self.max_iter, ConvergenceWarning)\n"
          ],
          "name": "stderr"
        },
        {
          "output_type": "stream",
          "text": [
            "train_score mlp_model 1.0\n",
            "test_score mlp_model 0.9175\n",
            "[[100   6   0   0]\n",
            " [  8  86   5   0]\n",
            " [  0   4  92   3]\n",
            " [  0   0   7  89]]\n"
          ],
          "name": "stdout"
        },
        {
          "output_type": "display_data",
          "data": {
            "image/png": "[encoded data removed]",
            "text/plain": [
              "<Figure size 432x288 with 2 Axes>"
            ]
          },
          "metadata": {
            "tags": [],
            "needs_background": "light"
          }
        }
      ]
    },
    {
      "cell_type": "markdown",
      "metadata": {
        "id": "61N_MVdpWvty"
      },
      "source": [
        "#Applying RandomForestClassifier Model \n"
      ]
    },
    {
      "cell_type": "code",
      "metadata": {
        "id": "PbKhR-eIakQC",
        "outputId": "fc58ceae-e7df-4a90-d015-b9212aad405b",
        "colab": {
          "base_uri": "https://localhost:8080/",
          "height": 365
        }
      },
      "source": [
        "from sklearn.ensemble import RandomForestClassifier\n",
        "\n",
        "rfc= RandomForestClassifier(criterion='gini',n_estimators=100,max_depth=3)\n",
        "rfc.fit(X_train,y_train)\n",
        "\n",
        "# Predicting the Test set results RandomForestClassifier Model\n",
        "y_pred = rfc.predict(X_test)\n",
        "\n",
        "#calculate the details RandomForestClassifier Model\n",
        "print('train_score rfc', rfc.score(X_train,y_train))\n",
        "print('test_score rfc',rfc.score(X_test,y_test))\n",
        "\n",
        "train_scores.append(rfc.score(X_train,y_train))\n",
        "test_scores.append(rfc.score(X_test,y_test))\n",
        "\n",
        "# Making the Confusion Matrix\n",
        "from sklearn.metrics import confusion_matrix\n",
        "cm = confusion_matrix(y_test,y_pred)\n",
        "print(cm)\n",
        "\n",
        "# drawing confusion matrix\n",
        "sns.heatmap(cm,center=True)\n",
        "plt.show()"
      ],
      "execution_count": 11,
      "outputs": [
        {
          "output_type": "stream",
          "text": [
            "train_score rfc 0.835625\n",
            "test_score rfc 0.775\n",
            "[[101   5   0   0]\n",
            " [ 22  60  17   0]\n",
            " [  0  24  57  18]\n",
            " [  0   0   4  92]]\n"
          ],
          "name": "stdout"
        },
        {
          "output_type": "display_data",
          "data": {
            "image/png": "[encoded data removed]",
            "text/plain": [
              "<Figure size 432x288 with 2 Axes>"
            ]
          },
          "metadata": {
            "tags": [],
            "needs_background": "light"
          }
        }
      ]
    },
    {
      "cell_type": "markdown",
      "metadata": {
        "id": "6szRvpSWW3m0"
      },
      "source": [
        "#visualization"
      ]
    },
    {
      "cell_type": "code",
      "metadata": {
        "id": "2MwKREfmI6SU",
        "outputId": "cedd41f2-c214-428e-f2a7-13960d12823d",
        "colab": {
          "base_uri": "https://localhost:8080/",
          "height": 583
        }
      },
      "source": [
        "Labels = ['classifier', 'svcmodel', 'Knnclassifier_model', 'gussian_model','DT_model','mlp_model','rfc']\n",
        "X = np.arange(1,8)\n",
        "fig = plt.figure(figsize=(10,7))\n",
        "ax = fig.add_axes([0,0,1,1])\n",
        "plt.style.context('ggplot')\n",
        "ax.bar(X + 0.00, train_scores, color = 'b', width = 0.45,label = 'train Score')\n",
        "ax.bar(X + 0.40, test_scores, color = 'r', width = 0.45,label = 'test Score')\n",
        "for i,m in list(zip(X,train_scores)):\n",
        "  plt.text(x = i ,y = m,s = float(\"{:.2f}\".format(m)))\n",
        "for i,m in list(zip(X,test_scores)):\n",
        "  plt.text(x = i + 0.45 ,y = m,s = float(\"{:.2f}\".format(m)))\n",
        "ax.set_xlabel('Models')\n",
        "ax.set_ylabel('Scores')\n",
        "ax.set_xticks(X)\n",
        "ax.set_xticklabels(Labels)\n",
        "plt.legend()"
      ],
      "execution_count": 12,
      "outputs": [
        {
          "output_type": "execute_result",
          "data": {
            "text/plain": [
              "<matplotlib.legend.Legend at 0x7f067c432f28>"
            ]
          },
          "metadata": {
            "tags": []
          },
          "execution_count": 12
        },
        {
          "output_type": "display_data",
          "data": {
            "image/png": "[encoded data removed]",
            "text/plain": [
              "<Figure size 720x504 with 1 Axes>"
            ]
          },
          "metadata": {
            "tags": [],
            "needs_background": "light"
          }
        }
      ]
    }
  ]
}